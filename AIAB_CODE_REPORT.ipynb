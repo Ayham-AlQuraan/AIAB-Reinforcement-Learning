{
  "cells": [
    {
      "cell_type": "code",
      "source": [
        "import numpy as np\n",
        "import pandas as pd\n",
        "import random\n",
        "from collections import deque\n",
        "import operator\n",
        "import matplotlib.pyplot as plt\n",
        "import seaborn as sns"
      ],
      "metadata": {
        "collapsed": true,
        "id": "XfX8SEqdP2Eo"
      },
      "execution_count": null,
      "outputs": []
    },
    {
      "cell_type": "markdown",
      "source": [
        "Priority Replay Buffer"
      ],
      "metadata": {
        "id": "MqceQhR8PWFl"
      }
    },
    {
      "cell_type": "code",
      "source": [
        "class PrioritizedReplayBuffer:\n",
        "#Priority-based experience replay buffer that stores experiences based on their importance, determined by the temporal difference (TD) error.\n",
        "    def __init__(self, size=1000, alpha=0.6):\n",
        "        self.alpha = alpha\n",
        "        self.buffer = deque(maxlen=size)\n",
        "        self.priorities = deque(maxlen=size)\n",
        "\n",
        "    def add(self, experience, error):\n",
        "#Adds experiences to the buffer with a priority level determined by the TD error.\n",
        "        priority = (abs(error) + 1e-5) ** self.alpha\n",
        "        self.buffer.append(experience)\n",
        "        self.priorities.append(priority)\n",
        "\n",
        "    def sample(self, batch_size):\n",
        "#Samples a batch of experiences based on their priority weights.\n",
        "        probabilities = np.array(self.priorities) / sum(self.priorities)\n",
        "        selected_indices = np.random.choice(range(len(self.buffer)), size=batch_size, p=probabilities)\n",
        "        return [self.buffer[i] for i in selected_indices], selected_indices\n",
        "\n",
        "    def update_priorities(self, indices, errors):\n",
        "#Updates priorities for sampled experiences after learning from them.\n",
        "        for index, error in zip(indices, errors):\n",
        "            self.priorities[index] = (abs(error) + 1e-5) ** self.alpha\n"
      ],
      "metadata": {
        "id": "QESAePRhPX8y"
      },
      "execution_count": null,
      "outputs": []
    },
    {
      "cell_type": "markdown",
      "source": [
        "Agent Class\n",
        "\n"
      ],
      "metadata": {
        "id": "P8aWTgiLXEiA"
      }
    },
    {
      "cell_type": "code",
      "source": [
        "class Agent:\n",
        "#Defines an RL agent with a Q-table for storing and updating action values, utilizing prioritized experience replay.\n",
        "    def __init__(self, learning_rate, discount_factor, initial_epsilon, min_epsilon, epsilon_decay, buffer_size=1000):\n",
        "        self.q_table = {}\n",
        "        self.lr = learning_rate\n",
        "        self.gamma = discount_factor\n",
        "        self.epsilon = initial_epsilon\n",
        "        self.min_epsilon = min_epsilon\n",
        "        self.epsilon_decay = epsilon_decay\n",
        "        self.memory = PrioritizedReplayBuffer(size=buffer_size)\n",
        "\n",
        "    def init_state(self, state):\n",
        "#Initializes the Q-values for all actions of a state if it hasn't been visited.\n",
        "        if state not in self.q_table:\n",
        "            self.q_table[state] = {'up': 0, 'down': 0, 'left': 0, 'right': 0}\n",
        "\n",
        "    def choose_action(self, state):\n",
        "#Chooses an action using epsilon-greedy policy.\n",
        "        self.init_state(state)\n",
        "        if np.random.rand() < self.epsilon:\n",
        "            return np.random.choice(['up', 'down', 'left', 'right'])\n",
        "        return max(self.q_table[state], key=self.q_table[state].get)\n",
        "\n",
        "    def update_epsilon(self):\n",
        "#Decays the epsilon value to reduce exploration over time.\n",
        "        self.epsilon = max(self.min_epsilon, self.epsilon * self.epsilon_decay)\n",
        "\n",
        "    def update_q_value(self, state, action, reward, next_state):\n",
        "#Updates the Q-value for a given state and action using the Bellman equation.\n",
        "        self.init_state(next_state)\n",
        "        old_value = self.q_table[state][action]\n",
        "        next_max = max(self.q_table[next_state].values())\n",
        "        new_value = old_value + self.lr * (reward + self.gamma * next_max - old_value)\n",
        "        self.q_table[state][action] = new_value\n",
        "\n",
        "    def replay(self, batch_size=32):\n",
        "#Updates Q-values for a batch of experiences sampled from the prioritized replay buffer.\n",
        "        experiences, indices = self.memory.sample(batch_size)\n",
        "        errors = []\n",
        "        for (state, action, reward, next_state) in experiences:\n",
        "            self.init_state(state)\n",
        "            self.init_state(next_state)\n",
        "            current_q = self.q_table[state][action]\n",
        "            next_max_q = max(self.q_table[next_state].values())\n",
        "            error = reward + self.gamma * next_max_q - current_q\n",
        "            errors.append(error)\n",
        "            self.update_q_value(state, action, reward, next_state)\n",
        "        self.memory.update_priorities(indices, errors)\n"
      ],
      "metadata": {
        "id": "dpkb6NWEXEPZ"
      },
      "execution_count": null,
      "outputs": []
    },
    {
      "cell_type": "markdown",
      "source": [
        "Enviromental Class\n",
        "\n",
        "\n"
      ],
      "metadata": {
        "id": "c66OUlSEXROl"
      }
    },
    {
      "cell_type": "code",
      "source": [
        "class Environment:\n",
        "    def __init__(self, size=(5, 5), num_objects=0):\n",
        "        self.size = size\n",
        "        self.num_objects = num_objects\n",
        "        self.grid = np.zeros(self.size)  # Initialize a grid of zeros\n",
        "        self.place_objects()\n",
        "        self.reset()\n",
        "\n",
        "    def place_objects(self):\n",
        "        count = 0\n",
        "        while count < self.num_objects:\n",
        "            x, y = np.random.randint(0, self.size[0]), np.random.randint(0, self.size[1])\n",
        "            if (x, y) not in [(0, 0), (self.size[0]-1, self.size[1]-1)] and self.grid[x, y] == 0:\n",
        "                self.grid[x, y] = 2  # Using 2 to denote objects\n",
        "                count += 1\n",
        "\n",
        "    def reset(self):\n",
        "        self.agent_position = [0, 0]\n",
        "        self.goal_position = [self.size[0] - 1, self.size[1] - 1]\n",
        "        self.grid[self.agent_position[0], self.agent_position[1]] = 1  # Agent's start position\n",
        "        self.grid[self.goal_position[0], self.goal_position[1]] = 3  # Goal position\n",
        "        return tuple(self.agent_position)\n",
        "\n",
        "    def step(self, action):\n",
        "        x, y = self.agent_position\n",
        "        moves = {'up': (-1, 0), 'down': (1, 0), 'left': (0, -1), 'right': (0, 1)}\n",
        "        dx, dy = moves[action]\n",
        "        new_x, new_y = x + dx, y + dy\n",
        "\n",
        "        if 0 <= new_x < self.size[0] and 0 <= new_y < self.size[1]:\n",
        "            if self.grid[new_x, new_y] != 2:  # Not blocked by an object\n",
        "                self.grid[x, y] = 0  # Clear old position\n",
        "                self.agent_position = [new_x, new_y]\n",
        "                self.grid[new_x, new_y] = 1  # Move agent\n",
        "\n",
        "        reward = -1\n",
        "        done = tuple(self.agent_position) == tuple(self.goal_position)\n",
        "        if done:\n",
        "            reward = 100\n",
        "        return tuple(self.agent_position), reward, done\n"
      ],
      "metadata": {
        "id": "-g3uaUItXRBH"
      },
      "execution_count": null,
      "outputs": []
    },
    {
      "cell_type": "markdown",
      "source": [
        "Genetic Algorithm Setup\n"
      ],
      "metadata": {
        "id": "56a1TPBDXS-_"
      }
    },
    {
      "cell_type": "code",
      "source": [
        "def crossover(agent1, agent2):\n",
        "    child_lr = (agent1.lr + agent2.lr) / 2\n",
        "    child_gamma = (agent1.gamma + agent2.gamma) / 2\n",
        "    child_epsilon = (agent1.epsilon + agent2.epsilon) / 2\n",
        "    child_min_epsilon = min(agent1.min_epsilon, agent2.min_epsilon)\n",
        "    child_epsilon_decay = (agent1.epsilon_decay + agent2.epsilon_decay) / 2\n",
        "\n",
        "    return Agent(\n",
        "        learning_rate=child_lr,\n",
        "        discount_factor=child_gamma,\n",
        "        initial_epsilon=child_epsilon,\n",
        "        min_epsilon=child_min_epsilon,\n",
        "        epsilon_decay=child_epsilon_decay,\n",
        "        buffer_size=1000,\n",
        "        learning_method=agent1.learning_method\n",
        "    )\n",
        "\n",
        "def mutate(agent, mutation_rate=0.1):\n",
        "    if random.random() < mutation_rate:\n",
        "        agent.lr += random.uniform(-0.05, 0.05)\n",
        "        agent.gamma += random.uniform(-0.05, 0.05)\n",
        "        agent.epsilon += random.uniform(-0.05, 0.05)\n",
        "        agent.min_epsilon = max(0, agent.min_epsilon - 0.01)\n",
        "        agent.epsilon_decay = max(0.9, agent.epsilon_decay - 0.01)\n",
        "    return agent\n",
        "\n",
        "def genetic_algorithm(population, generations):\n",
        "    for g in range(generations):\n",
        "        new_population = [mutate(agent) for agent in population]  # Apply mutation to all\n",
        "        for _ in range(len(population)//2):\n",
        "            parent1, parent2 = random.sample(population, 2)\n",
        "            child = crossover(parent1, parent2)\n",
        "            new_population.append(child)\n",
        "        population = new_population[:len(population)]  # Maintain population size\n",
        "    return population"
      ],
      "metadata": {
        "id": "74fVS21gXS22"
      },
      "execution_count": null,
      "outputs": []
    },
    {
      "cell_type": "markdown",
      "source": [
        "Simulation"
      ],
      "metadata": {
        "id": "urtDO0o_XTgS"
      }
    },
    {
      "cell_type": "code",
      "source": [
        "def run_simulation(environment, agents, episodes, steps_per_episode):\n",
        "    data = []\n",
        "    for episode in range(episodes):\n",
        "        episode_rewards = []\n",
        "        for agent in agents:\n",
        "            state = environment.reset()\n",
        "            total_reward = 0\n",
        "            for _ in range(steps_per_episode):\n",
        "                action = agent.choose_action(state)\n",
        "                next_state, reward, done = environment.step(action)\n",
        "                agent.memory.add((state, action, reward, next_state), reward - agent.q_table[state][action])\n",
        "                agent.update_q_value(state, action, reward, next_state)\n",
        "                state = next_state\n",
        "                total_reward += reward\n",
        "                if done:\n",
        "                    break\n",
        "                agent.replay()\n",
        "            episode_rewards.append(total_reward)\n",
        "            agent.update_epsilon()  # Gradually reduce exploration rate\n",
        "\n",
        "        # Calculate and store statistics for the episode\n",
        "        mean_reward = np.mean(episode_rewards)\n",
        "        data.append({\n",
        "            'episode': episode,\n",
        "            'mean_reward': mean_reward,\n",
        "            'min_reward': min(episode_rewards),\n",
        "            'max_reward': max(episode_rewards)\n",
        "        })\n",
        "        print(f\"Episode {episode}: Mean Reward = {mean_reward}\")\n",
        "\n",
        "    # Create DataFrame and save to CSV\n",
        "    df = pd.DataFrame(data)\n",
        "    df.to_csv('simulation_results.csv', index=False)\n",
        "    return df\n",
        "\n",
        "# Now call run_simulation and plot results\n",
        "env = Environment(size=(10, 10), num_objects=20)\n",
        "agents = [Agent(learning_rate=0.5, discount_factor=0.9, initial_epsilon=0.2, min_epsilon=0.01, epsilon_decay=0.99, buffer_size=1000) for _ in range(5)]\n",
        "\n",
        "results_df = run_simulation(env, agents, 100, 50)\n",
        "print(results_df.head())\n",
        "\n",
        "def plot_results():\n",
        "    df = pd.read_csv('simulation_results.csv')\n",
        "    plt.figure(figsize=(12, 6))\n",
        "    sns.lineplot(data=df, x='episode', y='mean_reward')\n",
        "    plt.title('Agent Performance Over Episodes')\n",
        "    plt.xlabel('Episode')\n",
        "    plt.ylabel('Mean Reward')\n",
        "    plt.show()\n",
        "\n",
        "plot_results()\n"
      ],
      "metadata": {
        "colab": {
          "base_uri": "https://localhost:8080/",
          "height": 1000
        },
        "id": "CoZSSy3jXTO4",
        "outputId": "6a89956c-b5f2-4156-ac6a-176b22cef7d5"
      },
      "execution_count": null,
      "outputs": [
        {
          "output_type": "stream",
          "name": "stdout",
          "text": [
            "Episode 0: Mean Reward = -50.0\n",
            "Episode 1: Mean Reward = -50.0\n",
            "Episode 2: Mean Reward = -50.0\n",
            "Episode 3: Mean Reward = -50.0\n",
            "Episode 4: Mean Reward = -50.0\n",
            "Episode 5: Mean Reward = -50.0\n",
            "Episode 6: Mean Reward = -50.0\n",
            "Episode 7: Mean Reward = -50.0\n",
            "Episode 8: Mean Reward = -50.0\n",
            "Episode 9: Mean Reward = -50.0\n",
            "Episode 10: Mean Reward = -26.4\n",
            "Episode 11: Mean Reward = 0.8\n",
            "Episode 12: Mean Reward = -26.4\n",
            "Episode 13: Mean Reward = -3.8\n",
            "Episode 14: Mean Reward = 37.8\n",
            "Episode 15: Mean Reward = 71.2\n",
            "Episode 16: Mean Reward = 42.0\n",
            "Episode 17: Mean Reward = 68.4\n",
            "Episode 18: Mean Reward = 80.6\n",
            "Episode 19: Mean Reward = 78.2\n",
            "Episode 20: Mean Reward = 81.0\n",
            "Episode 21: Mean Reward = 79.8\n",
            "Episode 22: Mean Reward = 76.6\n",
            "Episode 23: Mean Reward = 80.8\n",
            "Episode 24: Mean Reward = 79.4\n",
            "Episode 25: Mean Reward = 78.6\n",
            "Episode 26: Mean Reward = 81.4\n",
            "Episode 27: Mean Reward = 78.8\n",
            "Episode 28: Mean Reward = 78.6\n",
            "Episode 29: Mean Reward = 81.6\n",
            "Episode 30: Mean Reward = 80.0\n",
            "Episode 31: Mean Reward = 79.8\n",
            "Episode 32: Mean Reward = 79.6\n",
            "Episode 33: Mean Reward = 81.6\n",
            "Episode 34: Mean Reward = 80.6\n",
            "Episode 35: Mean Reward = 80.2\n",
            "Episode 36: Mean Reward = 80.4\n",
            "Episode 37: Mean Reward = 79.4\n",
            "Episode 38: Mean Reward = 80.2\n",
            "Episode 39: Mean Reward = 79.8\n",
            "Episode 40: Mean Reward = 81.2\n",
            "Episode 41: Mean Reward = 80.0\n",
            "Episode 42: Mean Reward = 78.6\n",
            "Episode 43: Mean Reward = 78.6\n",
            "Episode 44: Mean Reward = 81.0\n",
            "Episode 45: Mean Reward = 80.0\n",
            "Episode 46: Mean Reward = 78.8\n",
            "Episode 47: Mean Reward = 79.2\n",
            "Episode 48: Mean Reward = 82.2\n",
            "Episode 49: Mean Reward = 79.4\n",
            "Episode 50: Mean Reward = 80.2\n",
            "Episode 51: Mean Reward = 82.0\n",
            "Episode 52: Mean Reward = 81.2\n",
            "Episode 53: Mean Reward = 80.4\n",
            "Episode 54: Mean Reward = 80.4\n",
            "Episode 55: Mean Reward = 80.4\n",
            "Episode 56: Mean Reward = 82.0\n",
            "Episode 57: Mean Reward = 80.8\n",
            "Episode 58: Mean Reward = 80.6\n",
            "Episode 59: Mean Reward = 78.8\n",
            "Episode 60: Mean Reward = 80.2\n",
            "Episode 61: Mean Reward = 81.2\n",
            "Episode 62: Mean Reward = 80.8\n",
            "Episode 63: Mean Reward = 81.4\n",
            "Episode 64: Mean Reward = 81.2\n",
            "Episode 65: Mean Reward = 79.2\n",
            "Episode 66: Mean Reward = 81.2\n",
            "Episode 67: Mean Reward = 80.0\n",
            "Episode 68: Mean Reward = 80.4\n",
            "Episode 69: Mean Reward = 82.0\n",
            "Episode 70: Mean Reward = 80.2\n",
            "Episode 71: Mean Reward = 81.8\n",
            "Episode 72: Mean Reward = 82.4\n",
            "Episode 73: Mean Reward = 80.6\n",
            "Episode 74: Mean Reward = 81.6\n",
            "Episode 75: Mean Reward = 82.4\n",
            "Episode 76: Mean Reward = 82.2\n",
            "Episode 77: Mean Reward = 82.0\n",
            "Episode 78: Mean Reward = 81.6\n",
            "Episode 79: Mean Reward = 81.8\n",
            "Episode 80: Mean Reward = 82.2\n",
            "Episode 81: Mean Reward = 81.6\n",
            "Episode 82: Mean Reward = 81.0\n",
            "Episode 83: Mean Reward = 82.0\n",
            "Episode 84: Mean Reward = 82.0\n",
            "Episode 85: Mean Reward = 81.8\n",
            "Episode 86: Mean Reward = 82.8\n",
            "Episode 87: Mean Reward = 80.6\n",
            "Episode 88: Mean Reward = 79.6\n",
            "Episode 89: Mean Reward = 82.0\n",
            "Episode 90: Mean Reward = 80.4\n",
            "Episode 91: Mean Reward = 81.2\n",
            "Episode 92: Mean Reward = 81.6\n",
            "Episode 93: Mean Reward = 81.6\n",
            "Episode 94: Mean Reward = 81.6\n",
            "Episode 95: Mean Reward = 82.2\n",
            "Episode 96: Mean Reward = 81.0\n",
            "Episode 97: Mean Reward = 81.4\n",
            "Episode 98: Mean Reward = 81.4\n",
            "Episode 99: Mean Reward = 80.6\n",
            "   episode  mean_reward  min_reward  max_reward\n",
            "0        0        -50.0         -50         -50\n",
            "1        1        -50.0         -50         -50\n",
            "2        2        -50.0         -50         -50\n",
            "3        3        -50.0         -50         -50\n",
            "4        4        -50.0         -50         -50\n"
          ]
        },
        {
          "output_type": "display_data",
          "data": {
            "text/plain": [
              "<Figure size 1200x600 with 1 Axes>"
            ],
            "image/png": "[encoded data removed]"
          },
          "metadata": {}
        }
      ]
    }
  ],
  "metadata": {
    "colab": {
      "provenance": []
    },
    "kernelspec": {
      "display_name": "Python 3",
      "name": "python3"
    }
  },
  "nbformat": 4,
  "nbformat_minor": 0
}